{
  "cells": [
    {
      "cell_type": "code",
      "execution_count": null,
      "id": "4e385f8f",
      "metadata": {
        "execution": {
          "iopub.execute_input": "2024-12-31T19:29:32.935168Z",
          "iopub.status.busy": "2024-12-31T19:29:32.934909Z",
          "iopub.status.idle": "2024-12-31T19:29:38.776066Z",
          "shell.execute_reply": "2024-12-31T19:29:38.775129Z"
        },
        "papermill": {
          "duration": 5.850316,
          "end_time": "2024-12-31T19:29:38.777541",
          "exception": false,
          "start_time": "2024-12-31T19:29:32.927225",
          "status": "completed"
        },
        "tags": [],
        "id": "4e385f8f"
      },
      "outputs": [],
      "source": [
        "import numpy as np\n",
        "import pandas as pd\n",
        "import os\n",
        "\n",
        "import matplotlib.pyplot as plt\n",
        "import torch\n",
        "import torchvision\n",
        "import torchvision.transforms as transforms\n",
        "import torch.nn as nn\n",
        "import torch.optim as optim\n",
        "\n",
        "from PIL import Image\n",
        "from torch.utils.data import Dataset, DataLoader, random_split\n",
        "from sklearn.model_selection import train_test_split\n",
        "from torchvision import models\n",
        "import torch.nn.init as init"
      ]
    },
    {
      "cell_type": "code",
      "execution_count": null,
      "id": "6a0d7c1f",
      "metadata": {
        "execution": {
          "iopub.execute_input": "2024-12-31T19:29:38.788772Z",
          "iopub.status.busy": "2024-12-31T19:29:38.788403Z",
          "iopub.status.idle": "2024-12-31T19:29:38.863314Z",
          "shell.execute_reply": "2024-12-31T19:29:38.862467Z"
        },
        "papermill": {
          "duration": 0.081568,
          "end_time": "2024-12-31T19:29:38.864474",
          "exception": false,
          "start_time": "2024-12-31T19:29:38.782906",
          "status": "completed"
        },
        "tags": [],
        "id": "6a0d7c1f",
        "outputId": "b67a7878-4e75-4465-c3c5-301e008bb4ad"
      },
      "outputs": [
        {
          "name": "stdout",
          "output_type": "stream",
          "text": [
            "cuda:0\n"
          ]
        }
      ],
      "source": [
        "device = torch.device(\"cuda:0\" if torch.cuda.is_available() else \"cpu\")\n",
        "print(device)"
      ]
    },
    {
      "cell_type": "markdown",
      "id": "8734d1a0",
      "metadata": {
        "papermill": {
          "duration": 0.004786,
          "end_time": "2024-12-31T19:29:38.874599",
          "exception": false,
          "start_time": "2024-12-31T19:29:38.869813",
          "status": "completed"
        },
        "tags": [],
        "id": "8734d1a0"
      },
      "source": [
        "# Loading Dataset"
      ]
    },
    {
      "cell_type": "code",
      "execution_count": null,
      "id": "e05de65c",
      "metadata": {
        "execution": {
          "iopub.execute_input": "2024-12-31T19:29:38.885145Z",
          "iopub.status.busy": "2024-12-31T19:29:38.884860Z",
          "iopub.status.idle": "2024-12-31T19:29:38.888616Z",
          "shell.execute_reply": "2024-12-31T19:29:38.887811Z"
        },
        "papermill": {
          "duration": 0.010285,
          "end_time": "2024-12-31T19:29:38.889803",
          "exception": false,
          "start_time": "2024-12-31T19:29:38.879518",
          "status": "completed"
        },
        "tags": [],
        "id": "e05de65c"
      },
      "outputs": [],
      "source": [
        "def formatLabel(label):\n",
        "    return label[:5]\n",
        "\n",
        "def extractVowelAndConsonant(label):\n",
        "    vowel, consonant = label.split('_')\n",
        "    return vowel[1], consonant[1]"
      ]
    },
    {
      "cell_type": "code",
      "execution_count": null,
      "id": "900c9b3d",
      "metadata": {
        "execution": {
          "iopub.execute_input": "2024-12-31T19:29:38.900183Z",
          "iopub.status.busy": "2024-12-31T19:29:38.899908Z",
          "iopub.status.idle": "2024-12-31T19:29:38.906769Z",
          "shell.execute_reply": "2024-12-31T19:29:38.906005Z"
        },
        "papermill": {
          "duration": 0.013325,
          "end_time": "2024-12-31T19:29:38.907913",
          "exception": false,
          "start_time": "2024-12-31T19:29:38.894588",
          "status": "completed"
        },
        "tags": [],
        "id": "900c9b3d"
      },
      "outputs": [],
      "source": [
        "class TamilVowelConsonantDataset(Dataset):\n",
        "    def __init__(self, root_dir, transform=None):\n",
        "        \"\"\"\n",
        "        Args:\n",
        "            root_dir (string): Directory with all the images.\n",
        "            transform (callable, optional): Optional transform to be applied on an image.\n",
        "        \"\"\"\n",
        "        self.root_dir = root_dir\n",
        "        self.transform = transform\n",
        "        self.image_paths = [\n",
        "            os.path.join(root_dir, fname) for fname in os.listdir(root_dir) if fname.endswith('.png')\n",
        "        ]\n",
        "\n",
        "        self.labels = [formatLabel(os.path.splitext(fname)[0]) for fname in os.listdir(root_dir)]\n",
        "\n",
        "        # Create mappings for vowels and consonants\n",
        "        vowels = sorted(set({label.split('_')[0][1] for label in self.labels}))\n",
        "        consonants = sorted(set({label.split('_')[1][1] for label in self.labels}))\n",
        "\n",
        "        self.vowel_to_idx = {vowel: idx for idx, vowel in enumerate(vowels)}\n",
        "        self.consonant_to_idx = {consonant: idx for idx, consonant in enumerate(consonants)}\n",
        "\n",
        "    def __len__(self):\n",
        "        return len(self.image_paths)\n",
        "\n",
        "    def __getitem__(self, idx):\n",
        "        if torch.is_tensor(idx):\n",
        "            idx = idx.tolist()\n",
        "\n",
        "        img_path = self.image_paths[idx]\n",
        "\n",
        "        # Load the image\n",
        "        image = Image.open(img_path).convert('RGB')\n",
        "\n",
        "        if self.transform:\n",
        "            image = self.transform(image)\n",
        "\n",
        "\n",
        "        vowel, consonant = extractVowelAndConsonant(self.labels[idx])\n",
        "        vowel_label = torch.tensor(self.vowel_to_idx[vowel], dtype=torch.long)\n",
        "        consonant_label = torch.tensor(self.consonant_to_idx[consonant], dtype=torch.long)\n",
        "\n",
        "        return image, vowel_label, consonant_label"
      ]
    },
    {
      "cell_type": "code",
      "execution_count": null,
      "id": "493c86c8",
      "metadata": {
        "execution": {
          "iopub.execute_input": "2024-12-31T19:29:38.918364Z",
          "iopub.status.busy": "2024-12-31T19:29:38.918162Z",
          "iopub.status.idle": "2024-12-31T19:29:39.109531Z",
          "shell.execute_reply": "2024-12-31T19:29:39.108637Z"
        },
        "papermill": {
          "duration": 0.198031,
          "end_time": "2024-12-31T19:29:39.110832",
          "exception": false,
          "start_time": "2024-12-31T19:29:38.912801",
          "status": "completed"
        },
        "tags": [],
        "id": "493c86c8",
        "outputId": "ab7d7659-f188-46ff-f477-1e15c018c567"
      },
      "outputs": [
        {
          "name": "stdout",
          "output_type": "stream",
          "text": [
            "Sample Image Shape: torch.Size([3, 224, 224])\n",
            "Label: 4, Label Type: <class 'torch.Tensor'>, Label Value: 4\n",
            "Label: 9, Label Type: <class 'torch.Tensor'>, Label Value: 9\n"
          ]
        }
      ],
      "source": [
        "train_root_dir = '/kaggle/input/padhai-tamil-vow-cons-classification/train/train'\n",
        "\n",
        "# Define any transformations you'd like (e.g., normalization, resizing, augmentation)\n",
        "transform_train = transforms.Compose([\n",
        "    transforms.Resize((224, 224)),\n",
        "    transforms.RandomHorizontalFlip(),\n",
        "    transforms.RandomRotation(20),\n",
        "    transforms.ToTensor(),\n",
        "    transforms.Normalize(mean=[0.5, 0.5, 0.5], std=[0.5, 0.5, 0.5])  # Normalize to [-1, 1]\n",
        "])\n",
        "\n",
        "# Create Dataset\n",
        "dataset = TamilVowelConsonantDataset(root_dir=train_root_dir, transform=transform_train)\n",
        "\n",
        "# Access a sample\n",
        "sample_image, sample_vowel_label, sample_consonant_label = dataset[0]\n",
        "print(\"Sample Image Shape:\", sample_image.shape)\n",
        "print(f\"Label: {sample_vowel_label}, Label Type: {type(sample_vowel_label)}, Label Value: {sample_vowel_label.item()}\")\n",
        "print(f\"Label: {sample_consonant_label}, Label Type: {type(sample_consonant_label)}, Label Value: {sample_consonant_label.item()}\")"
      ]
    },
    {
      "cell_type": "code",
      "execution_count": null,
      "id": "e7ec5959",
      "metadata": {
        "execution": {
          "iopub.execute_input": "2024-12-31T19:29:39.121666Z",
          "iopub.status.busy": "2024-12-31T19:29:39.121454Z",
          "iopub.status.idle": "2024-12-31T19:29:39.128179Z",
          "shell.execute_reply": "2024-12-31T19:29:39.127571Z"
        },
        "papermill": {
          "duration": 0.013292,
          "end_time": "2024-12-31T19:29:39.129298",
          "exception": false,
          "start_time": "2024-12-31T19:29:39.116006",
          "status": "completed"
        },
        "tags": [],
        "id": "e7ec5959"
      },
      "outputs": [],
      "source": [
        "# Define batch size and number of workers (for DataLoader parallelism)\n",
        "batch_size = 16\n",
        "num_workers = 4  # Set this based on your machine's available cores\n",
        "\n",
        "train_size = int(0.8 * len(dataset))\n",
        "val_size = int(0.2 * len(dataset))\n",
        "test_size = len(dataset) - train_size - val_size\n",
        "\n",
        "train_dataset, val_dataset, test_dataset = random_split(dataset, [train_size, val_size, test_size])\n",
        "\n",
        "# Create DataLoaders with optimizations for speed\n",
        "train_loader = DataLoader(train_dataset, batch_size=batch_size, shuffle=True, num_workers=num_workers, pin_memory=True)\n",
        "val_loader = DataLoader(val_dataset, batch_size=batch_size, shuffle=False, num_workers=num_workers, pin_memory=True)\n",
        "test_loader = DataLoader(test_dataset, batch_size=batch_size, shuffle=False, num_workers=num_workers, pin_memory=True)"
      ]
    },
    {
      "cell_type": "code",
      "execution_count": null,
      "id": "8c6b391a",
      "metadata": {
        "execution": {
          "iopub.execute_input": "2024-12-31T19:29:39.139708Z",
          "iopub.status.busy": "2024-12-31T19:29:39.139504Z",
          "iopub.status.idle": "2024-12-31T19:29:39.142607Z",
          "shell.execute_reply": "2024-12-31T19:29:39.142022Z"
        },
        "papermill": {
          "duration": 0.009563,
          "end_time": "2024-12-31T19:29:39.143760",
          "exception": false,
          "start_time": "2024-12-31T19:29:39.134197",
          "status": "completed"
        },
        "tags": [],
        "id": "8c6b391a"
      },
      "outputs": [],
      "source": [
        "def imshow(img):\n",
        "    npimg = img.numpy()\n",
        "    plt.imshow(np.transpose(npimg, (1, 2, 0)))\n",
        "    plt.axis('off')\n",
        "    plt.show()"
      ]
    },
    {
      "cell_type": "code",
      "execution_count": null,
      "id": "0a1c8789",
      "metadata": {
        "execution": {
          "iopub.execute_input": "2024-12-31T19:29:39.154830Z",
          "iopub.status.busy": "2024-12-31T19:29:39.154613Z",
          "iopub.status.idle": "2024-12-31T19:29:39.855073Z",
          "shell.execute_reply": "2024-12-31T19:29:39.854178Z"
        },
        "papermill": {
          "duration": 0.707452,
          "end_time": "2024-12-31T19:29:39.856613",
          "exception": false,
          "start_time": "2024-12-31T19:29:39.149161",
          "status": "completed"
        },
        "tags": [],
        "id": "0a1c8789"
      },
      "outputs": [],
      "source": [
        "images, vowel_labels, consonant_labels = next(iter(train_loader))"
      ]
    },
    {
      "cell_type": "code",
      "execution_count": null,
      "id": "cbc15937",
      "metadata": {
        "execution": {
          "iopub.execute_input": "2024-12-31T19:29:39.868213Z",
          "iopub.status.busy": "2024-12-31T19:29:39.867914Z",
          "iopub.status.idle": "2024-12-31T19:29:40.167805Z",
          "shell.execute_reply": "2024-12-31T19:29:40.166868Z"
        },
        "papermill": {
          "duration": 0.307405,
          "end_time": "2024-12-31T19:29:40.169483",
          "exception": false,
          "start_time": "2024-12-31T19:29:39.862078",
          "status": "completed"
        },
        "tags": [],
        "id": "cbc15937",
        "outputId": "0bd2e3e8-3e92-4356-e31a-7337523aa9fd"
      },
      "outputs": [
        {
          "data": {
            "image/png": "[encoded data removed]",
            "text/plain": [
              "<Figure size 640x480 with 1 Axes>"
            ]
          },
          "metadata": {},
          "output_type": "display_data"
        },
        {
          "name": "stdout",
          "output_type": "stream",
          "text": [
            "tensor([0, 8, 5, 8, 8, 2, 3, 6, 1, 8, 4, 3, 1, 5, 0, 5])\n",
            "tensor([4, 2, 2, 7, 7, 9, 7, 5, 2, 6, 7, 8, 9, 6, 5, 7])\n"
          ]
        }
      ],
      "source": [
        "imshow(torchvision.utils.make_grid(images))\n",
        "print(vowel_labels)\n",
        "print(consonant_labels)"
      ]
    },
    {
      "cell_type": "markdown",
      "id": "10b08b6a",
      "metadata": {
        "papermill": {
          "duration": 0.006536,
          "end_time": "2024-12-31T19:29:40.184047",
          "exception": false,
          "start_time": "2024-12-31T19:29:40.177511",
          "status": "completed"
        },
        "tags": [],
        "id": "10b08b6a"
      },
      "source": [
        "# Training CNN"
      ]
    },
    {
      "cell_type": "code",
      "execution_count": null,
      "id": "1bf5bfa2",
      "metadata": {
        "execution": {
          "iopub.execute_input": "2024-12-31T19:29:40.198049Z",
          "iopub.status.busy": "2024-12-31T19:29:40.197762Z",
          "iopub.status.idle": "2024-12-31T19:29:40.205915Z",
          "shell.execute_reply": "2024-12-31T19:29:40.205299Z"
        },
        "papermill": {
          "duration": 0.016609,
          "end_time": "2024-12-31T19:29:40.207162",
          "exception": false,
          "start_time": "2024-12-31T19:29:40.190553",
          "status": "completed"
        },
        "tags": [],
        "id": "1bf5bfa2"
      },
      "outputs": [],
      "source": [
        "class VowelConsonantClassifier(nn.Module):\n",
        "    def __init__(self, backbone='vgg16_bn', num_vowels=10, num_consonants=10):\n",
        "        super(VowelConsonantClassifier, self).__init__()\n",
        "\n",
        "        # Backbone network\n",
        "        if backbone == 'resnet18':\n",
        "            self.backbone = models.resnet18(pretrained=True)\n",
        "            in_features = self.backbone.fc.in_features\n",
        "            self.backbone.fc = nn.Identity()  # Remove the default FC layer\n",
        "        elif backbone == 'vgg16_bn':\n",
        "            self.backbone = models.vgg16_bn(pretrained=True)\n",
        "            in_features = self.backbone.classifier[6].in_features\n",
        "            self.backbone.classifier[6] = nn.Identity()\n",
        "        else:\n",
        "            raise ValueError(\"Unsupported backbone\")\n",
        "\n",
        "        # Separate heads for vowels and consonants\n",
        "        self.vowel_head = nn.Sequential(\n",
        "            # nn.Linear(25088, 4096),\n",
        "            # nn.ReLU(),\n",
        "            # nn.Dropout(0.5),\n",
        "            # nn.Linear(4096, 4096),\n",
        "            # nn.ReLU(),\n",
        "            # nn.Dropout(0.5),\n",
        "            nn.Linear(4096, num_vowels)\n",
        "        )\n",
        "\n",
        "        self.consonant_head = nn.Sequential(\n",
        "            # nn.Linear(25088, 4096),\n",
        "            # nn.ReLU(),\n",
        "            # nn.Dropout(0.5),\n",
        "            # nn.Linear(4096, 4096),\n",
        "            # nn.ReLU(),\n",
        "            # nn.Dropout(0.5),\n",
        "            nn.Linear(4096, num_consonants)\n",
        "        )\n",
        "\n",
        "    def forward(self, x):\n",
        "        # Extract shared features\n",
        "        features = self.backbone(x)\n",
        "\n",
        "        # Separate outputs for vowels and consonants\n",
        "        vowel_logits = self.vowel_head(features)\n",
        "        consonant_logits = self.consonant_head(features)\n",
        "\n",
        "        return vowel_logits, consonant_logits\n"
      ]
    },
    {
      "cell_type": "code",
      "execution_count": null,
      "id": "7a9f9c20",
      "metadata": {
        "execution": {
          "iopub.execute_input": "2024-12-31T19:29:40.221152Z",
          "iopub.status.busy": "2024-12-31T19:29:40.220888Z",
          "iopub.status.idle": "2024-12-31T19:29:40.225559Z",
          "shell.execute_reply": "2024-12-31T19:29:40.224739Z"
        },
        "papermill": {
          "duration": 0.013035,
          "end_time": "2024-12-31T19:29:40.226841",
          "exception": false,
          "start_time": "2024-12-31T19:29:40.213806",
          "status": "completed"
        },
        "tags": [],
        "id": "7a9f9c20"
      },
      "outputs": [],
      "source": [
        "def evaluation(dataloader, model):\n",
        "    total, correct = 0, 0\n",
        "    model.eval()\n",
        "    with torch.no_grad():\n",
        "        for data in dataloader:\n",
        "            inputs, vowel_labels, consonant_labels = data\n",
        "            inputs, vowel_labels, consonant_labels = inputs.to(device), vowel_labels.to(device), consonant_labels.to(device)\n",
        "            vowel_outputs, consonant_outputs = model(inputs)\n",
        "            _, pred_vowels = torch.max(vowel_outputs.data, 1)\n",
        "            _, pred_consonants = torch.max(consonant_outputs.data, 1)\n",
        "            total += vowel_labels.size(0)\n",
        "            correct += ((pred_vowels == vowel_labels) & (pred_consonants == consonant_labels)).sum().item()\n",
        "    return 100 * correct / total"
      ]
    },
    {
      "cell_type": "code",
      "execution_count": null,
      "id": "3aa57fda",
      "metadata": {
        "execution": {
          "iopub.execute_input": "2024-12-31T19:29:40.241373Z",
          "iopub.status.busy": "2024-12-31T19:29:40.241163Z",
          "iopub.status.idle": "2024-12-31T19:29:40.244531Z",
          "shell.execute_reply": "2024-12-31T19:29:40.243953Z"
        },
        "papermill": {
          "duration": 0.011791,
          "end_time": "2024-12-31T19:29:40.245668",
          "exception": false,
          "start_time": "2024-12-31T19:29:40.233877",
          "status": "completed"
        },
        "tags": [],
        "id": "3aa57fda"
      },
      "outputs": [],
      "source": [
        "def save_checkpoint(model, optimizer, epoch, loss, filename=\"checkpoint.pth\"):\n",
        "    checkpoint = {\n",
        "        'model_state_dict': model.state_dict(),\n",
        "        'optimizer_state_dict': optimizer.state_dict(),\n",
        "        'epoch': epoch,\n",
        "        'loss': loss,\n",
        "    }\n",
        "    torch.save(checkpoint, filename)\n",
        "    print(f\"Checkpoint saved at {filename}\")"
      ]
    },
    {
      "cell_type": "code",
      "execution_count": null,
      "id": "a9ba9588",
      "metadata": {
        "execution": {
          "iopub.execute_input": "2024-12-31T19:29:40.260075Z",
          "iopub.status.busy": "2024-12-31T19:29:40.259830Z",
          "iopub.status.idle": "2024-12-31T19:29:40.263577Z",
          "shell.execute_reply": "2024-12-31T19:29:40.262928Z"
        },
        "papermill": {
          "duration": 0.012407,
          "end_time": "2024-12-31T19:29:40.264750",
          "exception": false,
          "start_time": "2024-12-31T19:29:40.252343",
          "status": "completed"
        },
        "tags": [],
        "id": "a9ba9588"
      },
      "outputs": [],
      "source": [
        "def load_checkpoint(filename, model, optimizer):\n",
        "    checkpoint = torch.load(filename, map_location=torch.device('cpu'))  # For loading on CPU\n",
        "    model.load_state_dict(checkpoint['model_state_dict'])\n",
        "    optimizer.load_state_dict(checkpoint['optimizer_state_dict'])\n",
        "    epoch = checkpoint['epoch']\n",
        "    loss = checkpoint['loss']\n",
        "    print(f\"Checkpoint loaded: epoch {epoch}, loss {loss}\")\n",
        "    return model, optimizer, epoch, loss"
      ]
    },
    {
      "cell_type": "code",
      "execution_count": null,
      "id": "38ef8599",
      "metadata": {
        "execution": {
          "iopub.execute_input": "2024-12-31T19:29:40.278365Z",
          "iopub.status.busy": "2024-12-31T19:29:40.278168Z",
          "iopub.status.idle": "2024-12-31T19:29:44.336106Z",
          "shell.execute_reply": "2024-12-31T19:29:44.335282Z"
        },
        "papermill": {
          "duration": 4.066402,
          "end_time": "2024-12-31T19:29:44.337700",
          "exception": false,
          "start_time": "2024-12-31T19:29:40.271298",
          "status": "completed"
        },
        "tags": [],
        "id": "38ef8599",
        "outputId": "c6dac3c3-b96b-4efe-fe7d-2a7ffe31e901"
      },
      "outputs": [
        {
          "name": "stderr",
          "output_type": "stream",
          "text": [
            "/usr/local/lib/python3.10/dist-packages/torchvision/models/_utils.py:208: UserWarning: The parameter 'pretrained' is deprecated since 0.13 and may be removed in the future, please use 'weights' instead.\n",
            "  warnings.warn(\n",
            "/usr/local/lib/python3.10/dist-packages/torchvision/models/_utils.py:223: UserWarning: Arguments other than a weight enum or `None` for 'weights' are deprecated since 0.13 and may be removed in the future. The current behavior is equivalent to passing `weights=VGG16_BN_Weights.IMAGENET1K_V1`. You can also use `weights=VGG16_BN_Weights.DEFAULT` to get the most up-to-date weights.\n",
            "  warnings.warn(msg)\n",
            "Downloading: \"https://download.pytorch.org/models/vgg16_bn-6c64b313.pth\" to /root/.cache/torch/hub/checkpoints/vgg16_bn-6c64b313.pth\n",
            "100%|██████████| 528M/528M [00:02<00:00, 236MB/s]\n"
          ]
        }
      ],
      "source": [
        "model = VowelConsonantClassifier()"
      ]
    },
    {
      "cell_type": "code",
      "execution_count": null,
      "id": "0b030e31",
      "metadata": {
        "execution": {
          "iopub.execute_input": "2024-12-31T19:29:44.355883Z",
          "iopub.status.busy": "2024-12-31T19:29:44.355589Z",
          "iopub.status.idle": "2024-12-31T19:29:44.359238Z",
          "shell.execute_reply": "2024-12-31T19:29:44.358434Z"
        },
        "papermill": {
          "duration": 0.013733,
          "end_time": "2024-12-31T19:29:44.360541",
          "exception": false,
          "start_time": "2024-12-31T19:29:44.346808",
          "status": "completed"
        },
        "tags": [],
        "id": "0b030e31"
      },
      "outputs": [],
      "source": [
        "for param in model.backbone.features.parameters():\n",
        "    param.required_grad=False"
      ]
    },
    {
      "cell_type": "code",
      "execution_count": null,
      "id": "b656dbe0",
      "metadata": {
        "execution": {
          "iopub.execute_input": "2024-12-31T19:29:44.377499Z",
          "iopub.status.busy": "2024-12-31T19:29:44.377256Z",
          "iopub.status.idle": "2024-12-31T19:29:44.545761Z",
          "shell.execute_reply": "2024-12-31T19:29:44.544787Z"
        },
        "papermill": {
          "duration": 0.178473,
          "end_time": "2024-12-31T19:29:44.547255",
          "exception": false,
          "start_time": "2024-12-31T19:29:44.368782",
          "status": "completed"
        },
        "tags": [],
        "id": "b656dbe0",
        "outputId": "c4b1d133-b22f-45cd-9237-1c7f8d524b6f"
      },
      "outputs": [
        {
          "name": "stdout",
          "output_type": "stream",
          "text": [
            "Using 2 GPUs!\n"
          ]
        }
      ],
      "source": [
        "if torch.cuda.device_count() > 1:\n",
        "    print(f\"Using {torch.cuda.device_count()} GPUs!\")\n",
        "    model = nn.DataParallel(model)  # Automatically distribute across GPUs\n",
        "\n",
        "model = model.to(device)"
      ]
    },
    {
      "cell_type": "code",
      "execution_count": null,
      "id": "2d036bf0",
      "metadata": {
        "execution": {
          "iopub.execute_input": "2024-12-31T19:29:44.564758Z",
          "iopub.status.busy": "2024-12-31T19:29:44.564508Z",
          "iopub.status.idle": "2024-12-31T19:29:44.567872Z",
          "shell.execute_reply": "2024-12-31T19:29:44.567014Z"
        },
        "papermill": {
          "duration": 0.013618,
          "end_time": "2024-12-31T19:29:44.569340",
          "exception": false,
          "start_time": "2024-12-31T19:29:44.555722",
          "status": "completed"
        },
        "tags": [],
        "id": "2d036bf0"
      },
      "outputs": [],
      "source": [
        "best_loss = float('inf')"
      ]
    },
    {
      "cell_type": "code",
      "execution_count": null,
      "id": "b1ae70c0",
      "metadata": {
        "execution": {
          "iopub.execute_input": "2024-12-31T19:29:44.586522Z",
          "iopub.status.busy": "2024-12-31T19:29:44.586287Z",
          "iopub.status.idle": "2024-12-31T19:29:44.590448Z",
          "shell.execute_reply": "2024-12-31T19:29:44.589838Z"
        },
        "papermill": {
          "duration": 0.01406,
          "end_time": "2024-12-31T19:29:44.591632",
          "exception": false,
          "start_time": "2024-12-31T19:29:44.577572",
          "status": "completed"
        },
        "tags": [],
        "id": "b1ae70c0"
      },
      "outputs": [],
      "source": [
        "learning_rate = 0.05\n",
        "optimizer = optim.SGD(filter(lambda p: p.requires_grad, model.parameters()), lr=learning_rate)\n",
        "loss_fn = nn.CrossEntropyLoss()\n",
        "num_epochs=8"
      ]
    },
    {
      "cell_type": "code",
      "execution_count": null,
      "id": "8bc0e7bd",
      "metadata": {
        "execution": {
          "iopub.execute_input": "2024-12-31T19:29:44.608660Z",
          "iopub.status.busy": "2024-12-31T19:29:44.608456Z",
          "iopub.status.idle": "2024-12-31T19:52:43.200695Z",
          "shell.execute_reply": "2024-12-31T19:52:43.199434Z"
        },
        "papermill": {
          "duration": 1378.612629,
          "end_time": "2024-12-31T19:52:43.212460",
          "exception": false,
          "start_time": "2024-12-31T19:29:44.599831",
          "status": "completed"
        },
        "tags": [],
        "id": "8bc0e7bd",
        "outputId": "9a5df7ed-c1d2-4c71-fd61-5f824fe47475"
      },
      "outputs": [
        {
          "name": "stdout",
          "output_type": "stream",
          "text": [
            "Train Epoch: 1 [0/8000 (0%)]\tLoss: 4.8655\n",
            "Train Epoch: 1 [1600/8000 (20%)]\tLoss: 2.8756\n",
            "Train Epoch: 1 [3200/8000 (40%)]\tLoss: 1.7080\n",
            "Train Epoch: 1 [4800/8000 (60%)]\tLoss: 1.5224\n",
            "Train Epoch: 1 [6400/8000 (80%)]\tLoss: 1.5813\n",
            "Checkpoint saved at best_checkpoint.pth\n",
            "Best Loss 0.98\n",
            "Epoch 1/8, Train Loss: 2.0887, Val Loss: 0.9767, Train Acc: 46.59%, Val Acc: 74.05%\n",
            "Train Epoch: 2 [0/8000 (0%)]\tLoss: 0.9776\n",
            "Train Epoch: 2 [1600/8000 (20%)]\tLoss: 1.1912\n",
            "Train Epoch: 2 [3200/8000 (40%)]\tLoss: 0.2042\n",
            "Train Epoch: 2 [4800/8000 (60%)]\tLoss: 0.3336\n",
            "Train Epoch: 2 [6400/8000 (80%)]\tLoss: 0.5746\n",
            "Checkpoint saved at best_checkpoint.pth\n",
            "Best Loss 0.64\n",
            "Epoch 2/8, Train Loss: 0.8076, Val Loss: 0.6370, Train Acc: 78.03%, Val Acc: 83.50%\n",
            "Train Epoch: 3 [0/8000 (0%)]\tLoss: 0.3752\n",
            "Train Epoch: 3 [1600/8000 (20%)]\tLoss: 1.1147\n",
            "Train Epoch: 3 [3200/8000 (40%)]\tLoss: 0.4342\n",
            "Train Epoch: 3 [4800/8000 (60%)]\tLoss: 0.7363\n",
            "Train Epoch: 3 [6400/8000 (80%)]\tLoss: 0.3143\n",
            "Checkpoint saved at best_checkpoint.pth\n",
            "Best Loss 0.51\n",
            "Epoch 3/8, Train Loss: 0.5816, Val Loss: 0.5065, Train Acc: 84.08%, Val Acc: 85.75%\n",
            "Train Epoch: 4 [0/8000 (0%)]\tLoss: 0.5156\n",
            "Train Epoch: 4 [1600/8000 (20%)]\tLoss: 0.6748\n",
            "Train Epoch: 4 [3200/8000 (40%)]\tLoss: 1.0030\n",
            "Train Epoch: 4 [4800/8000 (60%)]\tLoss: 0.1800\n",
            "Train Epoch: 4 [6400/8000 (80%)]\tLoss: 0.6040\n",
            "Epoch 4/8, Train Loss: 0.4948, Val Loss: 0.5069, Train Acc: 86.50%, Val Acc: 85.70%\n",
            "Train Epoch: 5 [0/8000 (0%)]\tLoss: 0.6840\n",
            "Train Epoch: 5 [1600/8000 (20%)]\tLoss: 0.0330\n",
            "Train Epoch: 5 [3200/8000 (40%)]\tLoss: 0.7282\n",
            "Train Epoch: 5 [4800/8000 (60%)]\tLoss: 0.4484\n",
            "Train Epoch: 5 [6400/8000 (80%)]\tLoss: 0.3081\n",
            "Epoch 5/8, Train Loss: 0.4057, Val Loss: 0.5835, Train Acc: 88.85%, Val Acc: 84.65%\n",
            "Train Epoch: 6 [0/8000 (0%)]\tLoss: 0.7177\n",
            "Train Epoch: 6 [1600/8000 (20%)]\tLoss: 0.4933\n",
            "Train Epoch: 6 [3200/8000 (40%)]\tLoss: 0.2794\n",
            "Train Epoch: 6 [4800/8000 (60%)]\tLoss: 0.0217\n",
            "Train Epoch: 6 [6400/8000 (80%)]\tLoss: 0.0597\n",
            "Checkpoint saved at best_checkpoint.pth\n",
            "Best Loss 0.36\n",
            "Epoch 6/8, Train Loss: 0.3489, Val Loss: 0.3571, Train Acc: 89.98%, Val Acc: 90.25%\n",
            "Train Epoch: 7 [0/8000 (0%)]\tLoss: 0.4028\n",
            "Train Epoch: 7 [1600/8000 (20%)]\tLoss: 0.5971\n",
            "Train Epoch: 7 [3200/8000 (40%)]\tLoss: 0.0034\n",
            "Train Epoch: 7 [4800/8000 (60%)]\tLoss: 0.1500\n",
            "Train Epoch: 7 [6400/8000 (80%)]\tLoss: 0.1002\n",
            "Checkpoint saved at best_checkpoint.pth\n",
            "Best Loss 0.33\n",
            "Epoch 7/8, Train Loss: 0.3004, Val Loss: 0.3274, Train Acc: 91.45%, Val Acc: 90.40%\n",
            "Train Epoch: 8 [0/8000 (0%)]\tLoss: 0.0633\n",
            "Train Epoch: 8 [1600/8000 (20%)]\tLoss: 0.2542\n",
            "Train Epoch: 8 [3200/8000 (40%)]\tLoss: 0.3865\n",
            "Train Epoch: 8 [4800/8000 (60%)]\tLoss: 0.3564\n",
            "Train Epoch: 8 [6400/8000 (80%)]\tLoss: 0.1830\n",
            "Epoch 8/8, Train Loss: 0.2737, Val Loss: 0.3387, Train Acc: 91.95%, Val Acc: 91.00%\n"
          ]
        }
      ],
      "source": [
        "train_loss_history = []\n",
        "val_loss_history = []\n",
        "train_acc_history = []\n",
        "val_acc_history = []\n",
        "\n",
        "for epoch in range(num_epochs):\n",
        "    # Training Phase\n",
        "    model.train()\n",
        "    train_loss = 0\n",
        "    correct_train = 0\n",
        "    total_train = 0\n",
        "\n",
        "    for batch_id, data in enumerate(train_loader):\n",
        "        inputs, vowel_labels, consonant_labels = data\n",
        "        inputs, vowel_labels, consonant_labels = inputs.to(device), vowel_labels.to(device), consonant_labels.to(device)\n",
        "\n",
        "        vowel_outputs, consonant_outputs = model(inputs)\n",
        "        loss_vowel = loss_fn(vowel_outputs, vowel_labels)\n",
        "        loss_consonant = loss_fn(consonant_outputs, consonant_labels)\n",
        "        loss = loss_vowel + loss_consonant\n",
        "\n",
        "        optimizer.zero_grad()\n",
        "        loss.backward()\n",
        "        optimizer.step()\n",
        "\n",
        "        train_loss += loss.item()\n",
        "        _, pred_vowels = torch.max(vowel_outputs, 1)\n",
        "        _, pred_consonants = torch.max(consonant_outputs, 1)\n",
        "        correct_train += ((pred_vowels == vowel_labels) & (pred_consonants == consonant_labels)).sum().item()\n",
        "        total_train += vowel_labels.size(0)\n",
        "\n",
        "        if batch_id % 100 == 0:\n",
        "            print('Train Epoch: {} [{}/{} ({:.0f}%)]\\tLoss: {:.4f}'.format(epoch + 1, batch_id * len(inputs), len(train_loader.dataset),\n",
        "                                                                           100. * batch_id / len(train_loader), loss.data.item()))\n",
        "\n",
        "        del inputs, vowel_labels, consonant_labels, vowel_outputs, consonant_outputs\n",
        "        torch.cuda.empty_cache()\n",
        "\n",
        "    train_loss_history.append(train_loss / len(train_loader))\n",
        "    train_acc_history.append(correct_train / total_train)\n",
        "\n",
        "    # Validation Phase\n",
        "    model.eval()\n",
        "    val_loss = 0\n",
        "    correct_val = 0\n",
        "    total_val = 0\n",
        "\n",
        "    with torch.no_grad():\n",
        "        for inputs, vowel_labels, consonant_labels in val_loader:\n",
        "            inputs, vowel_labels, consonant_labels = inputs.to(device), vowel_labels.to(device), consonant_labels.to(device)\n",
        "            vowel_outputs, consonant_outputs = model(inputs)\n",
        "            loss_vowel = loss_fn(vowel_outputs, vowel_labels)\n",
        "            loss_consonant = loss_fn(consonant_outputs, consonant_labels)\n",
        "            loss = loss_vowel + loss_consonant\n",
        "\n",
        "            val_loss += loss.item()\n",
        "            _, pred_vowels = torch.max(vowel_outputs, 1)\n",
        "            _, pred_consonants = torch.max(consonant_outputs, 1)\n",
        "            correct_val += ((pred_vowels == vowel_labels) & (pred_consonants == consonant_labels)).sum().item()\n",
        "            total_val += vowel_labels.size(0)\n",
        "\n",
        "            del inputs, vowel_labels, consonant_labels, vowel_outputs, consonant_outputs\n",
        "            torch.cuda.empty_cache()\n",
        "\n",
        "        val_loss /= len(val_loader)\n",
        "        val_loss_history.append(val_loss)\n",
        "        val_acc_history.append(correct_val / total_val)\n",
        "\n",
        "        if val_loss < best_loss:\n",
        "            best_loss = val_loss\n",
        "            save_checkpoint(model, optimizer, epoch+1, best_loss, filename=\"best_checkpoint.pth\")\n",
        "            print('Best Loss %0.2f' % best_loss)\n",
        "\n",
        "        print(f\"Epoch {epoch+1}/{num_epochs}, Train Loss: {train_loss_history[-1]:.4f}, Val Loss: {val_loss_history[-1]:.4f}, Train Acc: {train_acc_history[-1]*100:.2f}%, Val Acc: {val_acc_history[-1]*100:.2f}%\")\n",
        ""
      ]
    },
    {
      "cell_type": "code",
      "execution_count": null,
      "id": "92669ad2",
      "metadata": {
        "execution": {
          "iopub.execute_input": "2024-12-31T19:52:43.234222Z",
          "iopub.status.busy": "2024-12-31T19:52:43.233874Z",
          "iopub.status.idle": "2024-12-31T19:52:43.759343Z",
          "shell.execute_reply": "2024-12-31T19:52:43.758607Z"
        },
        "papermill": {
          "duration": 0.538053,
          "end_time": "2024-12-31T19:52:43.760864",
          "exception": false,
          "start_time": "2024-12-31T19:52:43.222811",
          "status": "completed"
        },
        "tags": [],
        "id": "92669ad2",
        "outputId": "03fb8680-2227-4d54-970e-ab5f386bd299"
      },
      "outputs": [
        {
          "data": {
            "image/png": "[encoded data removed]",
            "text/plain": [
              "<Figure size 1000x500 with 1 Axes>"
            ]
          },
          "metadata": {},
          "output_type": "display_data"
        },
        {
          "data": {
            "image/png": "[encoded data removed]",
            "text/plain": [
              "<Figure size 1000x500 with 1 Axes>"
            ]
          },
          "metadata": {},
          "output_type": "display_data"
        }
      ],
      "source": [
        "# Plot Loss\n",
        "plt.figure(figsize=(10, 5))\n",
        "plt.plot(train_loss_history, label=\"Training Loss\")\n",
        "plt.plot(val_loss_history, label=\"Validation Loss\")\n",
        "plt.title(\"Training vs. Validation Loss\")\n",
        "plt.xlabel(\"Epochs\")\n",
        "plt.ylabel(\"Loss\")\n",
        "plt.legend()\n",
        "plt.show()\n",
        "\n",
        "# Plot Accuracy\n",
        "plt.figure(figsize=(10, 5))\n",
        "plt.plot(train_acc_history, label=\"Training Accuracy\")\n",
        "plt.plot(val_acc_history, label=\"Validation Accuracy\")\n",
        "plt.title(\"Training vs. Validation Accuracy\")\n",
        "plt.xlabel(\"Epochs\")\n",
        "plt.ylabel(\"Accuracy\")\n",
        "plt.legend()\n",
        "plt.show()\n"
      ]
    },
    {
      "cell_type": "code",
      "execution_count": null,
      "id": "d29676c3",
      "metadata": {
        "execution": {
          "iopub.execute_input": "2024-12-31T19:52:43.785447Z",
          "iopub.status.busy": "2024-12-31T19:52:43.785219Z",
          "iopub.status.idle": "2024-12-31T19:52:44.310579Z",
          "shell.execute_reply": "2024-12-31T19:52:44.309518Z"
        },
        "papermill": {
          "duration": 0.538814,
          "end_time": "2024-12-31T19:52:44.311922",
          "exception": false,
          "start_time": "2024-12-31T19:52:43.773108",
          "status": "completed"
        },
        "tags": [],
        "id": "d29676c3",
        "outputId": "868dc889-5a61-4bc4-aeb9-52442ce7c457"
      },
      "outputs": [
        {
          "name": "stderr",
          "output_type": "stream",
          "text": [
            "<ipython-input-13-07e22bbb37de>:2: FutureWarning: You are using `torch.load` with `weights_only=False` (the current default value), which uses the default pickle module implicitly. It is possible to construct malicious pickle data which will execute arbitrary code during unpickling (See https://github.com/pytorch/pytorch/blob/main/SECURITY.md#untrusted-models for more details). In a future release, the default value for `weights_only` will be flipped to `True`. This limits the functions that could be executed during unpickling. Arbitrary objects will no longer be allowed to be loaded via this mode unless they are explicitly allowlisted by the user via `torch.serialization.add_safe_globals`. We recommend you start setting `weights_only=True` for any use case where you don't have full control of the loaded file. Please open an issue on GitHub for any issues related to this experimental feature.\n",
            "  checkpoint = torch.load(filename, map_location=torch.device('cpu'))  # For loading on CPU\n"
          ]
        },
        {
          "name": "stdout",
          "output_type": "stream",
          "text": [
            "Checkpoint loaded: epoch 7, loss 0.3273758637830615\n"
          ]
        }
      ],
      "source": [
        "# # Resuming Training\n",
        "checkpoint_path = \"best_checkpoint.pth\"\n",
        "best_model, best_optimizer, epoch, best_loss = load_checkpoint(checkpoint_path, model, optimizer)\n",
        "# # print('Test Acc (cur model): %0.2f, Test Acc (best model): %0.2f' % (evaluation(test_loader, model), evaluation(test_loader, best_model)))"
      ]
    },
    {
      "cell_type": "code",
      "execution_count": null,
      "id": "2062a843",
      "metadata": {
        "execution": {
          "iopub.execute_input": "2024-12-31T19:52:44.336696Z",
          "iopub.status.busy": "2024-12-31T19:52:44.336403Z",
          "iopub.status.idle": "2024-12-31T19:52:45.376829Z",
          "shell.execute_reply": "2024-12-31T19:52:45.376098Z"
        },
        "papermill": {
          "duration": 1.054254,
          "end_time": "2024-12-31T19:52:45.378365",
          "exception": false,
          "start_time": "2024-12-31T19:52:44.324111",
          "status": "completed"
        },
        "tags": [],
        "id": "2062a843"
      },
      "outputs": [],
      "source": [
        "torch.save(model.state_dict(), 'model.pth')"
      ]
    },
    {
      "cell_type": "code",
      "execution_count": null,
      "id": "a7e2c7d5",
      "metadata": {
        "execution": {
          "iopub.execute_input": "2024-12-31T19:52:45.404610Z",
          "iopub.status.busy": "2024-12-31T19:52:45.404325Z",
          "iopub.status.idle": "2024-12-31T19:52:45.409975Z",
          "shell.execute_reply": "2024-12-31T19:52:45.409295Z"
        },
        "papermill": {
          "duration": 0.020603,
          "end_time": "2024-12-31T19:52:45.411219",
          "exception": false,
          "start_time": "2024-12-31T19:52:45.390616",
          "status": "completed"
        },
        "tags": [],
        "id": "a7e2c7d5",
        "outputId": "7be77096-d3f5-4924-8d9b-b518a69183cd"
      },
      "outputs": [
        {
          "data": {
            "text/plain": [
              "DataParallel(\n",
              "  (module): VowelConsonantClassifier(\n",
              "    (backbone): VGG(\n",
              "      (features): Sequential(\n",
              "        (0): Conv2d(3, 64, kernel_size=(3, 3), stride=(1, 1), padding=(1, 1))\n",
              "        (1): BatchNorm2d(64, eps=1e-05, momentum=0.1, affine=True, track_running_stats=True)\n",
              "        (2): ReLU(inplace=True)\n",
              "        (3): Conv2d(64, 64, kernel_size=(3, 3), stride=(1, 1), padding=(1, 1))\n",
              "        (4): BatchNorm2d(64, eps=1e-05, momentum=0.1, affine=True, track_running_stats=True)\n",
              "        (5): ReLU(inplace=True)\n",
              "        (6): MaxPool2d(kernel_size=2, stride=2, padding=0, dilation=1, ceil_mode=False)\n",
              "        (7): Conv2d(64, 128, kernel_size=(3, 3), stride=(1, 1), padding=(1, 1))\n",
              "        (8): BatchNorm2d(128, eps=1e-05, momentum=0.1, affine=True, track_running_stats=True)\n",
              "        (9): ReLU(inplace=True)\n",
              "        (10): Conv2d(128, 128, kernel_size=(3, 3), stride=(1, 1), padding=(1, 1))\n",
              "        (11): BatchNorm2d(128, eps=1e-05, momentum=0.1, affine=True, track_running_stats=True)\n",
              "        (12): ReLU(inplace=True)\n",
              "        (13): MaxPool2d(kernel_size=2, stride=2, padding=0, dilation=1, ceil_mode=False)\n",
              "        (14): Conv2d(128, 256, kernel_size=(3, 3), stride=(1, 1), padding=(1, 1))\n",
              "        (15): BatchNorm2d(256, eps=1e-05, momentum=0.1, affine=True, track_running_stats=True)\n",
              "        (16): ReLU(inplace=True)\n",
              "        (17): Conv2d(256, 256, kernel_size=(3, 3), stride=(1, 1), padding=(1, 1))\n",
              "        (18): BatchNorm2d(256, eps=1e-05, momentum=0.1, affine=True, track_running_stats=True)\n",
              "        (19): ReLU(inplace=True)\n",
              "        (20): Conv2d(256, 256, kernel_size=(3, 3), stride=(1, 1), padding=(1, 1))\n",
              "        (21): BatchNorm2d(256, eps=1e-05, momentum=0.1, affine=True, track_running_stats=True)\n",
              "        (22): ReLU(inplace=True)\n",
              "        (23): MaxPool2d(kernel_size=2, stride=2, padding=0, dilation=1, ceil_mode=False)\n",
              "        (24): Conv2d(256, 512, kernel_size=(3, 3), stride=(1, 1), padding=(1, 1))\n",
              "        (25): BatchNorm2d(512, eps=1e-05, momentum=0.1, affine=True, track_running_stats=True)\n",
              "        (26): ReLU(inplace=True)\n",
              "        (27): Conv2d(512, 512, kernel_size=(3, 3), stride=(1, 1), padding=(1, 1))\n",
              "        (28): BatchNorm2d(512, eps=1e-05, momentum=0.1, affine=True, track_running_stats=True)\n",
              "        (29): ReLU(inplace=True)\n",
              "        (30): Conv2d(512, 512, kernel_size=(3, 3), stride=(1, 1), padding=(1, 1))\n",
              "        (31): BatchNorm2d(512, eps=1e-05, momentum=0.1, affine=True, track_running_stats=True)\n",
              "        (32): ReLU(inplace=True)\n",
              "        (33): MaxPool2d(kernel_size=2, stride=2, padding=0, dilation=1, ceil_mode=False)\n",
              "        (34): Conv2d(512, 512, kernel_size=(3, 3), stride=(1, 1), padding=(1, 1))\n",
              "        (35): BatchNorm2d(512, eps=1e-05, momentum=0.1, affine=True, track_running_stats=True)\n",
              "        (36): ReLU(inplace=True)\n",
              "        (37): Conv2d(512, 512, kernel_size=(3, 3), stride=(1, 1), padding=(1, 1))\n",
              "        (38): BatchNorm2d(512, eps=1e-05, momentum=0.1, affine=True, track_running_stats=True)\n",
              "        (39): ReLU(inplace=True)\n",
              "        (40): Conv2d(512, 512, kernel_size=(3, 3), stride=(1, 1), padding=(1, 1))\n",
              "        (41): BatchNorm2d(512, eps=1e-05, momentum=0.1, affine=True, track_running_stats=True)\n",
              "        (42): ReLU(inplace=True)\n",
              "        (43): MaxPool2d(kernel_size=2, stride=2, padding=0, dilation=1, ceil_mode=False)\n",
              "      )\n",
              "      (avgpool): AdaptiveAvgPool2d(output_size=(7, 7))\n",
              "      (classifier): Sequential(\n",
              "        (0): Linear(in_features=25088, out_features=4096, bias=True)\n",
              "        (1): ReLU(inplace=True)\n",
              "        (2): Dropout(p=0.5, inplace=False)\n",
              "        (3): Linear(in_features=4096, out_features=4096, bias=True)\n",
              "        (4): ReLU(inplace=True)\n",
              "        (5): Dropout(p=0.5, inplace=False)\n",
              "        (6): Identity()\n",
              "      )\n",
              "    )\n",
              "    (vowel_head): Sequential(\n",
              "      (0): Linear(in_features=4096, out_features=10, bias=True)\n",
              "    )\n",
              "    (consonant_head): Sequential(\n",
              "      (0): Linear(in_features=4096, out_features=10, bias=True)\n",
              "    )\n",
              "  )\n",
              ")"
            ]
          },
          "execution_count": 23,
          "metadata": {},
          "output_type": "execute_result"
        }
      ],
      "source": [
        "model.eval()  # Set the model to evaluation mode"
      ]
    },
    {
      "cell_type": "code",
      "execution_count": null,
      "id": "ff71283e",
      "metadata": {
        "execution": {
          "iopub.execute_input": "2024-12-31T19:52:45.435687Z",
          "iopub.status.busy": "2024-12-31T19:52:45.435434Z",
          "iopub.status.idle": "2024-12-31T19:52:45.439739Z",
          "shell.execute_reply": "2024-12-31T19:52:45.438919Z"
        },
        "papermill": {
          "duration": 0.017822,
          "end_time": "2024-12-31T19:52:45.441107",
          "exception": false,
          "start_time": "2024-12-31T19:52:45.423285",
          "status": "completed"
        },
        "tags": [],
        "id": "ff71283e"
      },
      "outputs": [],
      "source": [
        "# Define preprocessing steps (match training preprocessing)\n",
        "transform = transforms.Compose([\n",
        "    transforms.Resize((224, 224)),  # Resize to match input size\n",
        "    transforms.ToTensor(),       # Convert to tensor\n",
        "    transforms.Normalize(mean=[0.5, 0.5, 0.5], std=[0.5, 0.5, 0.5])  # Normalize\n",
        "])\n",
        "\n",
        "def preprocess_image(image_path):\n",
        "    image = Image.open(image_path).convert('RGB')  # Open and convert to RGB\n",
        "    return transform(image)  # Apply transforms"
      ]
    },
    {
      "cell_type": "code",
      "execution_count": null,
      "id": "40fd323e",
      "metadata": {
        "execution": {
          "iopub.execute_input": "2024-12-31T19:52:45.465736Z",
          "iopub.status.busy": "2024-12-31T19:52:45.465481Z",
          "iopub.status.idle": "2024-12-31T19:52:45.546858Z",
          "shell.execute_reply": "2024-12-31T19:52:45.546213Z"
        },
        "papermill": {
          "duration": 0.095426,
          "end_time": "2024-12-31T19:52:45.548332",
          "exception": false,
          "start_time": "2024-12-31T19:52:45.452906",
          "status": "completed"
        },
        "tags": [],
        "id": "40fd323e"
      },
      "outputs": [],
      "source": [
        "class InferenceDataset(Dataset):\n",
        "    def __init__(self, folder, transform):\n",
        "        self.image_paths = [os.path.join(folder, img) for img in os.listdir(folder)]\n",
        "        self.transform = transform\n",
        "\n",
        "    def __len__(self):\n",
        "        return len(self.image_paths)\n",
        "\n",
        "    def __getitem__(self, idx):\n",
        "        image_path = self.image_paths[idx]\n",
        "        image = self.transform(image_path)\n",
        "        file_name = os.path.basename(image_path)\n",
        "        return image, file_name\n",
        "\n",
        "# Create dataset and dataloader\n",
        "folder_path = '/kaggle/input/padhai-tamil-vow-cons-classification/test/test/'  # Path to your folder\n",
        "dataset = InferenceDataset(folder_path, preprocess_image)\n",
        "dataloader = DataLoader(dataset, batch_size=32, shuffle=False, num_workers=4)\n"
      ]
    },
    {
      "cell_type": "code",
      "execution_count": null,
      "id": "8839e15c",
      "metadata": {
        "execution": {
          "iopub.execute_input": "2024-12-31T19:52:45.573420Z",
          "iopub.status.busy": "2024-12-31T19:52:45.573167Z",
          "iopub.status.idle": "2024-12-31T19:53:34.107385Z",
          "shell.execute_reply": "2024-12-31T19:53:34.105926Z"
        },
        "papermill": {
          "duration": 48.548408,
          "end_time": "2024-12-31T19:53:34.109236",
          "exception": false,
          "start_time": "2024-12-31T19:52:45.560828",
          "status": "completed"
        },
        "tags": [],
        "id": "8839e15c"
      },
      "outputs": [],
      "source": [
        "results = []\n",
        "\n",
        "with torch.no_grad():  # Disable gradient computation\n",
        "    for inputs, image_paths in dataloader:\n",
        "        inputs = inputs.to(device)  # Move inputs to the correct device\n",
        "        outputs = model(inputs)    # Forward pass\n",
        "\n",
        "        # Assuming two outputs: vowel and consonant predictions\n",
        "        vowel_outputs, consonant_outputs = outputs\n",
        "        _, pred_vowels = torch.max(vowel_outputs, 1)\n",
        "        _, pred_consonants = torch.max(consonant_outputs, 1)\n",
        "\n",
        "        # Collect results\n",
        "        for i, path in enumerate(image_paths):\n",
        "            results.append({\n",
        "                \"ImageId\": path,\n",
        "                \"Class\": f\"V{pred_vowels[i].item()}_C{pred_consonants[i].item()}\"\n",
        "            })\n"
      ]
    },
    {
      "cell_type": "code",
      "execution_count": null,
      "id": "703a0742",
      "metadata": {
        "execution": {
          "iopub.execute_input": "2024-12-31T19:53:34.134985Z",
          "iopub.status.busy": "2024-12-31T19:53:34.134681Z",
          "iopub.status.idle": "2024-12-31T19:53:34.160868Z",
          "shell.execute_reply": "2024-12-31T19:53:34.160265Z"
        },
        "papermill": {
          "duration": 0.040018,
          "end_time": "2024-12-31T19:53:34.162081",
          "exception": false,
          "start_time": "2024-12-31T19:53:34.122063",
          "status": "completed"
        },
        "tags": [],
        "id": "703a0742"
      },
      "outputs": [],
      "source": [
        "\n",
        "df = pd.DataFrame(results)\n",
        "df.to_csv('submisision.csv', index=False)"
      ]
    },
    {
      "cell_type": "code",
      "execution_count": null,
      "id": "055789b5",
      "metadata": {
        "execution": {
          "iopub.execute_input": "2024-12-31T19:53:34.186474Z",
          "iopub.status.busy": "2024-12-31T19:53:34.186252Z",
          "iopub.status.idle": "2024-12-31T19:53:34.196661Z",
          "shell.execute_reply": "2024-12-31T19:53:34.195723Z"
        },
        "papermill": {
          "duration": 0.023862,
          "end_time": "2024-12-31T19:53:34.197878",
          "exception": false,
          "start_time": "2024-12-31T19:53:34.174016",
          "status": "completed"
        },
        "tags": [],
        "id": "055789b5",
        "outputId": "9936cb2e-a4f5-4f11-af7d-68f9362bf28e"
      },
      "outputs": [
        {
          "name": "stdout",
          "output_type": "stream",
          "text": [
            "    ImageId  Class\n",
            "0  9273.png  V9_C2\n",
            "1  9292.png  V9_C2\n",
            "2  4353.png  V4_C3\n",
            "3  7968.png  V7_C9\n",
            "4  6490.png  V6_C4\n",
            "5  5511.png  V5_C5\n",
            "6  6262.png  V6_C2\n",
            "7  2664.png  V2_C6\n",
            "8  8419.png  V8_C4\n",
            "9  9703.png  V9_C7\n"
          ]
        }
      ],
      "source": [
        "print(df.head(10))"
      ]
    },
    {
      "cell_type": "code",
      "execution_count": null,
      "id": "68c1667d",
      "metadata": {
        "papermill": {
          "duration": 0.011712,
          "end_time": "2024-12-31T19:53:34.221543",
          "exception": false,
          "start_time": "2024-12-31T19:53:34.209831",
          "status": "completed"
        },
        "tags": [],
        "id": "68c1667d"
      },
      "outputs": [],
      "source": []
    }
  ],
  "metadata": {
    "kaggle": {
      "accelerator": "nvidiaTeslaT4",
      "dataSources": [
        {
          "databundleVersionId": 790280,
          "sourceId": 16967,
          "sourceType": "competition"
        }
      ],
      "dockerImageVersionId": 30822,
      "isGpuEnabled": true,
      "isInternetEnabled": true,
      "language": "python",
      "sourceType": "notebook"
    },
    "kernelspec": {
      "display_name": "Python 3",
      "language": "python",
      "name": "python3"
    },
    "language_info": {
      "codemirror_mode": {
        "name": "ipython",
        "version": 3
      },
      "file_extension": ".py",
      "mimetype": "text/x-python",
      "name": "python",
      "nbconvert_exporter": "python",
      "pygments_lexer": "ipython3",
      "version": "3.10.12"
    },
    "papermill": {
      "default_parameters": {},
      "duration": 1445.233613,
      "end_time": "2024-12-31T19:53:36.057408",
      "environment_variables": {},
      "exception": null,
      "input_path": "__notebook__.ipynb",
      "output_path": "__notebook__.ipynb",
      "parameters": {},
      "start_time": "2024-12-31T19:29:30.823795",
      "version": "2.6.0"
    },
    "colab": {
      "provenance": []
    }
  },
  "nbformat": 4,
  "nbformat_minor": 5
}